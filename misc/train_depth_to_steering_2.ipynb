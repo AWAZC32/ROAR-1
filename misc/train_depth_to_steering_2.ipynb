{
 "cells": [
  {
   "cell_type": "code",
   "execution_count": null,
   "id": "0d422051",
   "metadata": {},
   "outputs": [],
   "source": []
  },
  {
   "cell_type": "code",
   "execution_count": 1,
   "id": "3a8cc414",
   "metadata": {},
   "outputs": [],
   "source": [
    "import pandas as pd\n",
    "import numpy as np\n",
    "from sklearn.model_selection import train_test_split\n",
    "from pathlib import Path\n",
    "import os\n",
    "import torch.utils.data as data\n",
    "import matplotlib.pyplot as plt\n"
   ]
  },
  {
   "cell_type": "code",
   "execution_count": 2,
   "id": "380ad84a",
   "metadata": {},
   "outputs": [],
   "source": [
    "import torch\n",
    "import torch.nn as nn\n",
    "import torch.nn.init as init\n",
    "import torch.optim as optim\n",
    "from torch.utils.data import DataLoader\n",
    "import torchvision.datasets as datasets\n",
    "import torchvision.transforms as transforms\n",
    "from torchvision.utils import save_image\n",
    "#from torchnet.meter import AverageValueMeter\n",
    "import torch.backends.cudnn as cudnn"
   ]
  },
  {
   "cell_type": "code",
   "execution_count": 3,
   "id": "f36d0272",
   "metadata": {},
   "outputs": [
    {
     "name": "stdout",
     "output_type": "stream",
     "text": [
      "Found 102172 data points\n"
     ]
    }
   ],
   "source": [
    "data_dir = Path(\"/home/michael/Desktop/projects/ROAR/data/output\")\n",
    "center_depth_dir = data_dir / \"front_depth\"\n",
    "veh_state_dir = data_dir / \"vehicle_state\"\n",
    "\n",
    "center_depth_paths = [p for p in sorted(center_depth_dir.glob(\"*.npy\", ), key=os.path.getmtime)]\n",
    "veh_state_paths = [p for p in sorted(veh_state_dir.glob(\"*.npy\", ), key=os.path.getmtime)]\n",
    "print(f\"Found { len(center_depth_paths)} data points\")"
   ]
  },
  {
   "cell_type": "code",
   "execution_count": 4,
   "id": "e36c8513",
   "metadata": {},
   "outputs": [
    {
     "data": {
      "text/plain": [
       "(array([[<AxesSubplot:title={'center':'steering'}>]], dtype=object),\n",
       "             throttle       steering\n",
       " count  102176.000000  102176.000000\n",
       " mean        0.577268      -0.007161\n",
       " std         0.475320       0.113447\n",
       " min         0.000000      -1.000000\n",
       " 25%         0.000000      -0.073310\n",
       " 50%         1.000000      -0.007634\n",
       " 75%         1.000000       0.063397\n",
       " max         1.000000       1.000000)"
      ]
     },
     "execution_count": 4,
     "metadata": {},
     "output_type": "execute_result"
    },
    {
     "data": {
      "image/png": "[encoded data removed]",
      "text/plain": [
       "<Figure size 432x288 with 1 Axes>"
      ]
     },
     "metadata": {
      "needs_background": "light"
     },
     "output_type": "display_data"
    }
   ],
   "source": [
    "throttles, steerings = [], []\n",
    "for st_path in veh_state_paths:\n",
    "    array = np.load(st_path)\n",
    "    throttles.append(array[-2])\n",
    "    steerings.append(array[-1])\n",
    "df = pd.DataFrame(\n",
    "    data={\"throttle\":throttles, \"steering\":steerings}\n",
    ")\n",
    "df.hist(\"steering\"), df.describe()"
   ]
  },
  {
   "cell_type": "code",
   "execution_count": 5,
   "id": "2aba12a3",
   "metadata": {},
   "outputs": [],
   "source": [
    "from utils import depth2colorjet, random_flip, crop_roi\n",
    "import cv2\n",
    "class CarDataset(data.Dataset):\n",
    "    def __init__(self, X, y, img_width=64, img_height=64, should_take_roi=False, roi_min_height=30):\n",
    "        self.X = X\n",
    "        self.y = y\n",
    "        self.img_width=img_width\n",
    "        self.img_height=img_height\n",
    "        self.should_take_roi = should_take_roi\n",
    "        self.roi_min_height = roi_min_height\n",
    "        \n",
    "    def __getitem__(self, index):\n",
    "        img_path = self.X[index]\n",
    "        veh_state_path = self.y[index]\n",
    "        steering_angle = np.load(veh_state_path)[-1]\n",
    "        img = np.load(img_path)\n",
    "#         color_jet_rgb = depth2colorjet(img)\n",
    "        img = cv2.resize(img, dsize=(self.img_width, self.img_height))\n",
    "        if self.should_take_roi:\n",
    "            img = img[30:self.img_width, :]\n",
    "        \n",
    "        # generate random noise to the image\n",
    "        img, steering_angle = random_flip(img, steering_angle)\n",
    "        return img, steering_angle\n",
    "    \n",
    "    def __len__(self):\n",
    "        return len(self.X)\n",
    "\n",
    "    "
   ]
  },
  {
   "cell_type": "code",
   "execution_count": 6,
   "id": "b4aa93f3",
   "metadata": {},
   "outputs": [],
   "source": [
    "car_dataset = CarDataset(X=center_depth_paths, y=veh_state_paths)\n"
   ]
  },
  {
   "cell_type": "code",
   "execution_count": 7,
   "id": "0566bffa",
   "metadata": {
    "scrolled": true
   },
   "outputs": [
    {
     "data": {
      "text/plain": [
       "(<matplotlib.image.AxesImage at 0x7f7e137aaaf0>, 0.06670547276735306)"
      ]
     },
     "execution_count": 7,
     "metadata": {},
     "output_type": "execute_result"
    },
    {
     "data": {
      "image/png": "[encoded data removed]",
      "text/plain": [
       "<Figure size 432x288 with 1 Axes>"
      ]
     },
     "metadata": {
      "needs_background": "light"
     },
     "output_type": "display_data"
    }
   ],
   "source": [
    "color_jet_depth, angle = car_dataset[100]\n",
    "plt.imshow(color_jet_depth), angle"
   ]
  },
  {
   "cell_type": "code",
   "execution_count": 8,
   "id": "fdcf4051",
   "metadata": {},
   "outputs": [],
   "source": [
    "class CarModel(nn.Module):\n",
    "    def __init__(self):\n",
    "        super(CarModel, self).__init__()\n",
    "        self.conv_layers = nn.Sequential(\n",
    "            nn.Conv2d(1, 24, 5),\n",
    "            nn.ELU(),\n",
    "            nn.MaxPool2d(kernel_size=2),\n",
    "            \n",
    "            nn.Conv2d(24, 48, 5),\n",
    "            nn.ELU(),\n",
    "            nn.MaxPool2d(kernel_size=2),\n",
    "\n",
    "            nn.Conv2d(48, 96, 5),\n",
    "            nn.ELU(),\n",
    "            nn.MaxPool2d(2),\n",
    "            nn.Dropout(p=0.5)\n",
    "        )\n",
    "        self.linear_layers = nn.Sequential(\n",
    "            nn.Linear(in_features=96*4*4,out_features=100),\n",
    "            nn.ELU(),\n",
    "            nn.Linear(in_features=100, out_features=50),\n",
    "            nn.ELU(),\n",
    "            nn.Linear(in_features=50, out_features=10),\n",
    "            nn.Linear(in_features=10, out_features=1)\n",
    "        )\n",
    "\n",
    "    def forward(self, input):\n",
    "        input = torch.reshape(input, (1, 1, 64, 64))\n",
    "        output = self.conv_layers(input)\n",
    "        output = output.flatten()\n",
    "        output = self.linear_layers(output)\n",
    "        return output   "
   ]
  },
  {
   "cell_type": "code",
   "execution_count": 9,
   "id": "7a3582cf",
   "metadata": {},
   "outputs": [],
   "source": [
    "def toTensor(data, use_cuda, device=None):\n",
    "    img, target = data\n",
    "    img, target = x_np = torch.from_numpy(img).float(), torch.from_numpy(np.array([target])).float()\n",
    "    if use_cuda:\n",
    "        img, target = img.to(device), target.to(device)\n",
    "    return img, target"
   ]
  },
  {
   "cell_type": "code",
   "execution_count": 10,
   "id": "c8e91d13",
   "metadata": {},
   "outputs": [],
   "source": [
    "\n",
    "def train(epoch, net, dataloader, optimizer, criterion, use_cuda, device=None, save_dir=Path(\".\")):\n",
    "    min_error = 1000000\n",
    "    save_dir.mkdir(exist_ok=True, parents=True)\n",
    "    if use_cuda:\n",
    "        net.to(device)\n",
    "    net.train()\n",
    "    train_loss = 0\n",
    "    for batch_idx, data in enumerate(dataloader):\n",
    "        optimizer.zero_grad()\n",
    "        img, steering_angle = toTensor(data, use_cuda, device)\n",
    "        output = net(img)\n",
    "        loss = criterion(output, steering_angle)\n",
    "        loss.backward()\n",
    "        optimizer.step()\n",
    "        train_loss += loss.data.item()\n",
    "        if batch_idx % 1000 == 0:\n",
    "            print(f'    Batch: {batch_idx} --> Loss: {train_loss / (batch_idx+1)}')\n",
    "        \n",
    "        if train_loss / (batch_idx+1) < min_error:\n",
    "            print(\"          Newest lowest steer MSE: {:.4f}\".format(train_loss / (batch_idx+1)))\n",
    "            torch.save(net, save_dir / \"best_model.h5\")\n",
    "            min_error = train_loss / (batch_idx+1)\n",
    "    \n",
    "    torch.save(net, save_dir / \"model.h5\")\n",
    "\n",
    "        "
   ]
  },
  {
   "cell_type": "code",
   "execution_count": 11,
   "id": "af89cfb2",
   "metadata": {},
   "outputs": [],
   "source": [
    "net = CarModel()\n",
    "optimizer = optim.Adam(net.parameters(), lr=1e-5)\n",
    "use_cuda = torch.cuda.is_available()\n",
    "device=torch.device(\"cuda:0\" if torch.cuda.is_available() else \"cpu\")\n",
    "criterion = nn.MSELoss()"
   ]
  },
  {
   "cell_type": "code",
   "execution_count": null,
   "id": "e847a814",
   "metadata": {},
   "outputs": [
    {
     "name": "stdout",
     "output_type": "stream",
     "text": [
      "Epoch 0\n",
      "    Batch: 0 --> Loss: 0.008364888839423656\n",
      "          Newest lowest steer MSE: 0.0084\n",
      "          Newest lowest steer MSE: 0.0067\n",
      "          Newest lowest steer MSE: 0.0061\n",
      "          Newest lowest steer MSE: 0.0052\n",
      "          Newest lowest steer MSE: 0.0051\n",
      "          Newest lowest steer MSE: 0.0051\n",
      "          Newest lowest steer MSE: 0.0047\n",
      "          Newest lowest steer MSE: 0.0047\n",
      "          Newest lowest steer MSE: 0.0043\n",
      "          Newest lowest steer MSE: 0.0041\n",
      "          Newest lowest steer MSE: 0.0038\n",
      "          Newest lowest steer MSE: 0.0036\n",
      "          Newest lowest steer MSE: 0.0035\n",
      "          Newest lowest steer MSE: 0.0033\n",
      "          Newest lowest steer MSE: 0.0032\n",
      "          Newest lowest steer MSE: 0.0031\n",
      "          Newest lowest steer MSE: 0.0029\n",
      "          Newest lowest steer MSE: 0.0028\n",
      "          Newest lowest steer MSE: 0.0027\n",
      "          Newest lowest steer MSE: 0.0026\n",
      "          Newest lowest steer MSE: 0.0025\n",
      "          Newest lowest steer MSE: 0.0024\n",
      "          Newest lowest steer MSE: 0.0024\n",
      "          Newest lowest steer MSE: 0.0023\n",
      "          Newest lowest steer MSE: 0.0022\n",
      "          Newest lowest steer MSE: 0.0022\n",
      "          Newest lowest steer MSE: 0.0021\n",
      "          Newest lowest steer MSE: 0.0021\n",
      "          Newest lowest steer MSE: 0.0020\n",
      "          Newest lowest steer MSE: 0.0020\n",
      "          Newest lowest steer MSE: 0.0019\n",
      "          Newest lowest steer MSE: 0.0019\n",
      "          Newest lowest steer MSE: 0.0019\n",
      "          Newest lowest steer MSE: 0.0018\n",
      "          Newest lowest steer MSE: 0.0018\n",
      "          Newest lowest steer MSE: 0.0018\n",
      "          Newest lowest steer MSE: 0.0017\n",
      "          Newest lowest steer MSE: 0.0017\n",
      "          Newest lowest steer MSE: 0.0017\n",
      "          Newest lowest steer MSE: 0.0017\n",
      "          Newest lowest steer MSE: 0.0016\n",
      "          Newest lowest steer MSE: 0.0016\n",
      "          Newest lowest steer MSE: 0.0016\n",
      "          Newest lowest steer MSE: 0.0016\n",
      "          Newest lowest steer MSE: 0.0016\n",
      "          Newest lowest steer MSE: 0.0015\n",
      "          Newest lowest steer MSE: 0.0015\n",
      "          Newest lowest steer MSE: 0.0015\n",
      "          Newest lowest steer MSE: 0.0015\n",
      "          Newest lowest steer MSE: 0.0015\n",
      "          Newest lowest steer MSE: 0.0014\n",
      "          Newest lowest steer MSE: 0.0014\n",
      "          Newest lowest steer MSE: 0.0014\n",
      "          Newest lowest steer MSE: 0.0014\n",
      "          Newest lowest steer MSE: 0.0014\n",
      "          Newest lowest steer MSE: 0.0014\n",
      "          Newest lowest steer MSE: 0.0013\n",
      "          Newest lowest steer MSE: 0.0013\n",
      "          Newest lowest steer MSE: 0.0013\n",
      "          Newest lowest steer MSE: 0.0013\n",
      "          Newest lowest steer MSE: 0.0013\n",
      "          Newest lowest steer MSE: 0.0013\n",
      "          Newest lowest steer MSE: 0.0013\n",
      "          Newest lowest steer MSE: 0.0013\n",
      "          Newest lowest steer MSE: 0.0013\n",
      "          Newest lowest steer MSE: 0.0013\n",
      "          Newest lowest steer MSE: 0.0013\n",
      "          Newest lowest steer MSE: 0.0012\n",
      "          Newest lowest steer MSE: 0.0012\n",
      "          Newest lowest steer MSE: 0.0012\n",
      "          Newest lowest steer MSE: 0.0012\n",
      "          Newest lowest steer MSE: 0.0012\n",
      "          Newest lowest steer MSE: 0.0012\n",
      "          Newest lowest steer MSE: 0.0012\n",
      "          Newest lowest steer MSE: 0.0012\n",
      "          Newest lowest steer MSE: 0.0012\n",
      "          Newest lowest steer MSE: 0.0012\n",
      "          Newest lowest steer MSE: 0.0011\n",
      "          Newest lowest steer MSE: 0.0011\n",
      "          Newest lowest steer MSE: 0.0011\n",
      "    Batch: 1000 --> Loss: 0.011657627830927475\n",
      "    Batch: 2000 --> Loss: 0.008701107224247533\n",
      "    Batch: 3000 --> Loss: 0.008435093829464863\n",
      "    Batch: 4000 --> Loss: 0.007821646350310076\n",
      "    Batch: 5000 --> Loss: 0.009483192294261412\n",
      "    Batch: 6000 --> Loss: 0.01022259968431668\n",
      "    Batch: 7000 --> Loss: 0.010765100707106278\n",
      "    Batch: 8000 --> Loss: 0.01095114384087113\n",
      "    Batch: 9000 --> Loss: 0.011008494310508083\n",
      "    Batch: 10000 --> Loss: 0.011215922561338514\n",
      "    Batch: 11000 --> Loss: 0.011402674884209563\n",
      "    Batch: 12000 --> Loss: 0.011442351708677847\n",
      "    Batch: 13000 --> Loss: 0.01145704164526589\n",
      "    Batch: 14000 --> Loss: 0.011463898567027328\n",
      "    Batch: 15000 --> Loss: 0.01156600806586362\n",
      "    Batch: 16000 --> Loss: 0.01158778590479662\n",
      "    Batch: 17000 --> Loss: 0.011595889211396917\n",
      "    Batch: 18000 --> Loss: 0.011706158882247861\n",
      "    Batch: 19000 --> Loss: 0.01168172247651295\n",
      "    Batch: 20000 --> Loss: 0.011723842724508616\n",
      "    Batch: 21000 --> Loss: 0.0118474083577283\n",
      "    Batch: 22000 --> Loss: 0.011833504709793705\n",
      "    Batch: 23000 --> Loss: 0.01181514127064606\n",
      "    Batch: 24000 --> Loss: 0.011818314605968654\n",
      "    Batch: 25000 --> Loss: 0.011810049318118562\n",
      "    Batch: 26000 --> Loss: 0.011786377002177719\n",
      "    Batch: 27000 --> Loss: 0.011861039194045207\n",
      "    Batch: 28000 --> Loss: 0.011849442976932722\n"
     ]
    }
   ],
   "source": [
    "for epoch in range(0, 10):\n",
    "    print(f\"Epoch {epoch}\")\n",
    "    train(epoch, net, car_dataset, optimizer, criterion, use_cuda, device=device, save_dir=Path(\"./data\"))"
   ]
  },
  {
   "cell_type": "code",
   "execution_count": null,
   "id": "dd86c8e7",
   "metadata": {},
   "outputs": [],
   "source": []
  },
  {
   "cell_type": "code",
   "execution_count": null,
   "id": "528239db",
   "metadata": {},
   "outputs": [],
   "source": []
  }
 ],
 "metadata": {
  "kernelspec": {
   "display_name": "Python 3 (ipykernel)",
   "language": "python",
   "name": "python3"
  },
  "language_info": {
   "codemirror_mode": {
    "name": "ipython",
    "version": 3
   },
   "file_extension": ".py",
   "mimetype": "text/x-python",
   "name": "python",
   "nbconvert_exporter": "python",
   "pygments_lexer": "ipython3",
   "version": "3.8.0"
  }
 },
 "nbformat": 4,
 "nbformat_minor": 5
}
