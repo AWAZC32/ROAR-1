{
 "cells": [
  {
   "cell_type": "code",
   "execution_count": null,
   "id": "d2041f55",
   "metadata": {},
   "outputs": [],
   "source": []
  },
  {
   "cell_type": "code",
   "execution_count": 8,
   "id": "e36c8513",
   "metadata": {},
   "outputs": [
    {
     "data": {
      "text/plain": [
       "(array([[<AxesSubplot:title={'center':'steering'}>]], dtype=object),\n",
       "             throttle       steering\n",
       " count  118577.000000  118577.000000\n",
       " mean        0.604110      -0.007236\n",
       " std         0.345911       0.094685\n",
       " min         0.000000      -0.640327\n",
       " 25%         0.466233      -0.068903\n",
       " 50%         0.588960      -0.006032\n",
       " 75%         1.000000       0.061620\n",
       " max         1.000000       0.733144)"
      ]
     },
     "execution_count": 8,
     "metadata": {},
     "output_type": "execute_result"
    },
    {
     "data": {
      "image/png": "[encoded data removed]",
      "text/plain": [
       "<Figure size 432x288 with 1 Axes>"
      ]
     },
     "metadata": {
      "needs_background": "light"
     },
     "output_type": "display_data"
    }
   ],
   "source": [
    "throttles, steerings = [], []\n",
    "for st_path in veh_state_paths:\n",
    "    array = np.load(st_path)\n",
    "    throttles.append(array[-2])\n",
    "    steerings.append(array[-1])\n",
    "df = pd.DataFrame(\n",
    "    data={\"throttle\":throttles, \"steering\":steerings}\n",
    ")\n",
    "df.hist(\"steering\"), df.describe()"
   ]
  },
  {
   "cell_type": "code",
   "execution_count": null,
   "id": "3a8cc414",
   "metadata": {},
   "outputs": [],
   "source": [
    "import pandas as pd\n",
    "import numpy as np\n",
    "from sklearn.model_selection import train_test_split\n",
    "from pathlib import Path\n",
    "import os\n",
    "import torch.utils.data as data\n",
    "import matplotlib.pyplot as plt\n"
   ]
  },
  {
   "cell_type": "code",
   "execution_count": null,
   "id": "380ad84a",
   "metadata": {},
   "outputs": [],
   "source": [
    "import torch\n",
    "import torch.nn as nn\n",
    "import torch.nn.init as init\n",
    "import torch.optim as optim\n",
    "from torch.utils.data import DataLoader\n",
    "import torchvision.datasets as datasets\n",
    "import torchvision.transforms as transforms\n",
    "from torchvision.utils import save_image\n",
    "#from torchnet.meter import AverageValueMeter\n",
    "import torch.backends.cudnn as cudnn"
   ]
  },
  {
   "cell_type": "code",
   "execution_count": null,
   "id": "f36d0272",
   "metadata": {},
   "outputs": [],
   "source": [
    "data_dir = Path(\"/home/michael/Desktop/projects/ROAR/data/output\")\n",
    "center_depth_dir = data_dir / \"front_depth\"\n",
    "veh_state_dir = data_dir / \"vehicle_state\"\n",
    "\n",
    "center_depth_paths = [p for p in sorted(center_depth_dir.glob(\"*.npy\", ), key=os.path.getmtime)]\n",
    "veh_state_paths = [p for p in sorted(veh_state_dir.glob(\"*.npy\", ), key=os.path.getmtime)]\n",
    "print(f\"Found { len(center_depth_paths)} data points\")"
   ]
  },
  {
   "cell_type": "code",
   "execution_count": null,
   "id": "2aba12a3",
   "metadata": {},
   "outputs": [],
   "source": [
    "from utils import depth2colorjet, random_flip, crop_roi, depthToLogDepth\n",
    "import cv2\n",
    "class CarDataset(data.Dataset):\n",
    "    def __init__(self, X, y, img_width=64, img_height=64, should_take_roi=False, roi_min_height=30,\n",
    "                 should_use_log_depth=True, should_stack=False, resize=None):\n",
    "        self.X = X\n",
    "        self.y = y\n",
    "        self.img_width=img_width\n",
    "        self.img_height=img_height\n",
    "        self.should_take_roi = should_take_roi\n",
    "        self.roi_min_height = roi_min_height\n",
    "        self.should_use_log_depth=should_use_log_depth\n",
    "        self.should_stack = should_stack\n",
    "        self.resize = resize\n",
    "        \n",
    "    def __getitem__(self, index):\n",
    "        img_path = self.X[index]\n",
    "        veh_state_path = self.y[index]\n",
    "        steering_angle = np.load(veh_state_path)[-1]\n",
    "        img = np.load(img_path)\n",
    "        if self.should_take_roi: # will not enter\n",
    "            img = img[30:self.img_width, :]\n",
    "        if self.should_use_log_depth:\n",
    "            img = depthToLogDepth(img)\n",
    "        if self.resize is not None:\n",
    "            img = cv2.resize(img, (self.resize))\n",
    "        \n",
    "        # generate random noise to the image\n",
    "        img, steering_angle = random_flip(img, steering_angle)\n",
    "        return img, steering_angle\n",
    "    \n",
    "    def __len__(self):\n",
    "        return len(self.X)\n",
    "\n",
    "    "
   ]
  },
  {
   "cell_type": "code",
   "execution_count": null,
   "id": "cc3627f4",
   "metadata": {},
   "outputs": [],
   "source": [
    "car_dataset = CarDataset(X=center_depth_paths, y=veh_state_paths)"
   ]
  },
  {
   "cell_type": "code",
   "execution_count": null,
   "id": "3864daf9",
   "metadata": {
    "scrolled": false
   },
   "outputs": [],
   "source": [
    "color_jet_depth, angle = car_dataset[100]\n",
    "print(np.shape(color_jet_depth))\n",
    "plt.imshow(color_jet_depth), angle"
   ]
  },
  {
   "cell_type": "markdown",
   "id": "13745446",
   "metadata": {},
   "source": [
    "### Use monte carlo method to understand our distribution"
   ]
  },
  {
   "cell_type": "code",
   "execution_count": null,
   "id": "9768cb40",
   "metadata": {},
   "outputs": [],
   "source": [
    "def describe_loader(loader, N=100):\n",
    "    i = 0\n",
    "    loader_generator = iter(loader)\n",
    "    steerings = []\n",
    "    while i < N:\n",
    "        img, steering = next(loader_generator)\n",
    "        angles = steering.numpy()\n",
    "        for angle in angles:\n",
    "            steerings.append(angle)\n",
    "        i += 1\n",
    "    df = pd.DataFrame(\n",
    "        data={\"steering\":steerings}\n",
    "    )\n",
    "    df.hist(\"steering\"), df.describe()"
   ]
  },
  {
   "cell_type": "code",
   "execution_count": null,
   "id": "e4195d5f",
   "metadata": {},
   "outputs": [],
   "source": []
  },
  {
   "cell_type": "code",
   "execution_count": null,
   "id": "2f137496",
   "metadata": {},
   "outputs": [],
   "source": []
  },
  {
   "cell_type": "markdown",
   "id": "cd4fe065",
   "metadata": {},
   "source": [
    "## Split data into Train and valid sets"
   ]
  },
  {
   "cell_type": "code",
   "execution_count": null,
   "id": "16a07431",
   "metadata": {},
   "outputs": [],
   "source": [
    "X_train, X_valid, y_train, y_valid = train_test_split(center_depth_paths, \n",
    "                                                      veh_state_paths, \n",
    "                                                      test_size=0.25, \n",
    "                                                      shuffle=True)\n"
   ]
  },
  {
   "cell_type": "code",
   "execution_count": null,
   "id": "05714d72",
   "metadata": {},
   "outputs": [],
   "source": [
    "batch_size = 2\n",
    "car_train_loader = DataLoader(CarDataset(X=X_train, y=y_train,resize=(80,60)), \n",
    "                              batch_size=batch_size, shuffle=True)\n",
    "car_valid_loader = DataLoader(CarDataset(X=X_valid, y=y_valid,resize=(80,60)), \n",
    "                              batch_size=batch_size, shuffle=True)\n",
    "describe_loader(car_train_loader)"
   ]
  },
  {
   "cell_type": "code",
   "execution_count": null,
   "id": "6bcfdc65",
   "metadata": {},
   "outputs": [],
   "source": [
    "print(len(car_train_loader), len(car_valid_loader))"
   ]
  },
  {
   "cell_type": "code",
   "execution_count": null,
   "id": "28ed6490",
   "metadata": {},
   "outputs": [],
   "source": []
  },
  {
   "cell_type": "code",
   "execution_count": null,
   "id": "95a39d07",
   "metadata": {},
   "outputs": [],
   "source": []
  },
  {
   "cell_type": "code",
   "execution_count": null,
   "id": "4cdbc707",
   "metadata": {},
   "outputs": [],
   "source": []
  },
  {
   "cell_type": "code",
   "execution_count": null,
   "id": "06c7536c",
   "metadata": {},
   "outputs": [],
   "source": [
    "from model import CarModel\n"
   ]
  },
  {
   "cell_type": "code",
   "execution_count": null,
   "id": "dbb4fd4e",
   "metadata": {},
   "outputs": [],
   "source": []
  },
  {
   "cell_type": "code",
   "execution_count": null,
   "id": "9a1b3230",
   "metadata": {},
   "outputs": [],
   "source": [
    "def toTensor(data, use_cuda, device=None):\n",
    "    img, target = data\n",
    "#     img, target = torch.from_numpy(img).float(), torch.from_numpy(np.array([target])).float()\n",
    "    img = img.float()\n",
    "    target = target.float()\n",
    "    if use_cuda:\n",
    "        img, target = img.to(device), target.to(device)\n",
    "    return img, target"
   ]
  },
  {
   "cell_type": "code",
   "execution_count": null,
   "id": "dcb4a931",
   "metadata": {},
   "outputs": [],
   "source": [
    "best_loss = 1000000\n",
    "\n",
    "def train(epoch, net, train_loader, optimizer, criterion, use_cuda, \n",
    "          device=None, save_dir=Path(\".\"),MAX_BATCH=1000):\n",
    "    net.train()\n",
    "    train_loss = 0\n",
    "    for batch_idx, data in enumerate(train_loader):\n",
    "        optimizer.zero_grad()\n",
    "        img, steering_angle = toTensor(data, use_cuda, device)\n",
    "        output = net(img) # Tensor([ITEM])\n",
    "        loss = criterion(output, steering_angle)\n",
    "        loss.backward()\n",
    "        optimizer.step()\n",
    "        train_loss += loss.data.item()\n",
    "        if batch_idx % 100 == 0:\n",
    "            print(f'    Batch: {batch_idx} --> Loss: {train_loss / (batch_idx+1)}') \n",
    "        \n",
    "        if batch_idx >= MAX_BATCH:\n",
    "            break\n",
    "    \n",
    "\n",
    "def valid(epoch, net, validloader, criterion, use_cuda, device=None, save_dir=Path(\".\"),MAX_BATCH=1000):\n",
    "    global best_loss\n",
    "    net.eval()\n",
    "    valid_loss = 0 \n",
    "    for batch_idx, data in enumerate(validloader):\n",
    "        img, steering_angle = toTensor(data, use_cuda, device)\n",
    "        outputs = net(img)\n",
    "        loss = criterion(outputs, steering_angle)\n",
    "        valid_loss += loss.data.item()\n",
    "        \n",
    "        avg_valid_loss = valid_loss / (batch_idx + 1)\n",
    "        if batch_idx % 100 == 0:\n",
    "            print(f\"    Valid Loss: {avg_valid_loss}\" )\n",
    "        \n",
    "        if avg_valid_loss <= best_loss:\n",
    "            best_loss = avg_valid_loss\n",
    "            print(f\"         Saving.... Best epoch: {epoch} -> {avg_valid_loss}\")\n",
    "            torch.save(net, save_dir / \"best_model.h5\")\n",
    "        \n",
    "        if batch_idx >= MAX_BATCH:\n",
    "            break\n",
    "    \n",
    "    torch.save(net, save_dir / \"model.h5\")\n"
   ]
  },
  {
   "cell_type": "code",
   "execution_count": null,
   "id": "03d48db0",
   "metadata": {},
   "outputs": [],
   "source": []
  },
  {
   "cell_type": "code",
   "execution_count": null,
   "id": "8c2f4512",
   "metadata": {},
   "outputs": [],
   "source": [
    "#load the previous net or use new net\n",
    "# net = torch.load(\"/home/michael/Desktop/projects/ROAR/misc/data/best_model.h5\")\n",
    "# net.training = True\n",
    "\n",
    "net = CarModel(batch_size=batch_size)\n"
   ]
  },
  {
   "cell_type": "code",
   "execution_count": null,
   "id": "10b89e64",
   "metadata": {},
   "outputs": [],
   "source": [
    "optimizer = optim.Adam(net.parameters(), lr=1e-5)\n",
    "use_cuda = torch.cuda.is_available()\n",
    "device=torch.device(\"cuda:0\" if torch.cuda.is_available() else \"cpu\")\n",
    "criterion = nn.MSELoss()"
   ]
  },
  {
   "cell_type": "code",
   "execution_count": null,
   "id": "0f128bb8",
   "metadata": {},
   "outputs": [],
   "source": [
    "save_dir = Path(\"./data\")\n",
    "save_dir.mkdir(exist_ok=True, parents=True)\n",
    "if use_cuda:\n",
    "    net.to(device)\n",
    "for epoch in range(0, 100):\n",
    "    print(f\"Epoch {epoch}\")\n",
    "    train(epoch, net, car_train_loader, optimizer, criterion, use_cuda, device=device, save_dir=save_dir, \n",
    "          MAX_BATCH=len(car_train_loader) // 4)\n",
    "    valid(epoch, net, car_valid_loader, criterion, use_cuda, device=device, save_dir=save_dir, MAX_BATCH=1000)"
   ]
  },
  {
   "cell_type": "code",
   "execution_count": null,
   "id": "018df332",
   "metadata": {},
   "outputs": [],
   "source": []
  }
 ],
 "metadata": {
  "kernelspec": {
   "display_name": "Python 3 (ipykernel)",
   "language": "python",
   "name": "python3"
  },
  "language_info": {
   "codemirror_mode": {
    "name": "ipython",
    "version": 3
   },
   "file_extension": ".py",
   "mimetype": "text/x-python",
   "name": "python",
   "nbconvert_exporter": "python",
   "pygments_lexer": "ipython3",
   "version": "3.8.0"
  }
 },
 "nbformat": 4,
 "nbformat_minor": 5
}
